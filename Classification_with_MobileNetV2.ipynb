{
  "nbformat": 4,
  "nbformat_minor": 0,
  "metadata": {
    "accelerator": "GPU",
    "colab": {
      "name": "Classification with MobileNetV2.ipynb",
      "provenance": [],
      "collapsed_sections": [],
      "include_colab_link": true
    },
    "kernelspec": {
      "display_name": "Python 3",
      "name": "python3"
    }
  },
  "cells": [
    {
      "cell_type": "markdown",
      "metadata": {
        "id": "view-in-github",
        "colab_type": "text"
      },
      "source": [
        "<a href=\"https://colab.research.google.com/github/CindyFeliciaU/GenieLog/blob/main/Classification_with_MobileNetV2.ipynb\" target=\"_parent\"><img src=\"https://colab.research.google.com/assets/colab-badge.svg\" alt=\"Open In Colab\"/></a>"
      ]
    },
    {
      "cell_type": "markdown",
      "metadata": {
        "id": "77gENRVX40S7"
      },
      "source": [
        "##### Copyright 2019 The TensorFlow Authors."
      ]
    },
    {
      "cell_type": "code",
      "metadata": {
        "id": "d8jyt37T42Vf",
        "cellView": "form"
      },
      "source": [
        "#@title Licensed under the Apache License, Version 2.0 (the \"License\");\n",
        "# you may not use this file except in compliance with the License.\n",
        "# You may obtain a copy of the License at\n",
        "#\n",
        "# https://www.apache.org/licenses/LICENSE-2.0\n",
        "#\n",
        "# Unless required by applicable law or agreed to in writing, software\n",
        "# distributed under the License is distributed on an \"AS IS\" BASIS,\n",
        "# WITHOUT WARRANTIES OR CONDITIONS OF ANY KIND, either express or implied.\n",
        "# See the License for the specific language governing permissions and\n",
        "# limitations under the License."
      ],
      "execution_count": null,
      "outputs": []
    },
    {
      "cell_type": "code",
      "metadata": {
        "cellView": "form",
        "id": "aPxHdjwW5P2j"
      },
      "source": [
        "#@title MIT License\n",
        "#\n",
        "# Copyright (c) 2017 François Chollet                                                                                                                    # IGNORE_COPYRIGHT: cleared by OSS licensing\n",
        "#\n",
        "# Permission is hereby granted, free of charge, to any person obtaining a\n",
        "# copy of this software and associated documentation files (the \"Software\"),\n",
        "# to deal in the Software without restriction, including without limitation\n",
        "# the rights to use, copy, modify, merge, publish, distribute, sublicense,\n",
        "# and/or sell copies of the Software, and to permit persons to whom the\n",
        "# Software is furnished to do so, subject to the following conditions:\n",
        "#\n",
        "# The above copyright notice and this permission notice shall be included in\n",
        "# all copies or substantial portions of the Software.\n",
        "#\n",
        "# THE SOFTWARE IS PROVIDED \"AS IS\", WITHOUT WARRANTY OF ANY KIND, EXPRESS OR\n",
        "# IMPLIED, INCLUDING BUT NOT LIMITED TO THE WARRANTIES OF MERCHANTABILITY,\n",
        "# FITNESS FOR A PARTICULAR PURPOSE AND NONINFRINGEMENT. IN NO EVENT SHALL\n",
        "# THE AUTHORS OR COPYRIGHT HOLDERS BE LIABLE FOR ANY CLAIM, DAMAGES OR OTHER\n",
        "# LIABILITY, WHETHER IN AN ACTION OF CONTRACT, TORT OR OTHERWISE, ARISING\n",
        "# FROM, OUT OF OR IN CONNECTION WITH THE SOFTWARE OR THE USE OR OTHER\n",
        "# DEALINGS IN THE SOFTWARE."
      ],
      "execution_count": null,
      "outputs": []
    },
    {
      "cell_type": "markdown",
      "metadata": {
        "id": "2X4KyhORdSeO"
      },
      "source": [
        "# Binary Classification with MobileNetV2\n",
        "In this tutorial, you will learn how to conduct a Binary classification using transfer learning on MobileNetV2 to classify images of daisies and dandelions.\n",
        "\n",
        "For this notebook we will be using the Daisies and Dandelions dataset which can be found [here](https://public.roboflow.com/classification/flowers_classification/1). This dataset is a collection of 1821 images images in 2 different classes. This tutorial is based on Tensorflow's [Transfer Learning on MobileNetV2 notebook](https://colab.research.google.com/github/tensorflow/docs/blob/master/site/en/tutorials/images/transfer_learning.ipynb).\n",
        "\n",
        "### Accompanying Blog Post\n",
        "\n",
        "We recommend that you follow along in this notebook while reading the blog post on [How to Train MobileNetV2 On a Custom Dataset](blog.roboflow.com/how-to-train-mobilenetv2-on-a-custom-dataset/) concurrently.\n",
        "\n",
        "### Steps Covered in this Tutorial\n",
        "\n",
        "* Download data using Roboflow and Convert it into a Tensorflow ImageFolder Format \n",
        "* Construct the model\n",
        "   * Load in the pretrained base model (and pretrained weights)\n",
        "   * Stack the classification layers on top\n",
        "* Train & Evaluate the model\n",
        "* Fine Tune the model to increase accuracy after convergence\n",
        "\n",
        "### **About**\n",
        "\n",
        "[Roboflow](https://roboflow.com) enables teams to deploy custom computer vision models quickly and accurately. Convert data from to annotation format, assess dataset health, preprocess, augment, and more. It's free for your first 1000 source images.\n",
        "\n",
        "**Looking for a vision model available via API without hassle? Try Roboflow Train.**\n",
        "\n",
        "![Roboflow Wordmark](https://i.imgur.com/dcLNMhV.png)"
      ]
    },
    {
      "cell_type": "code",
      "metadata": {
        "id": "iBMcobPHdD8O"
      },
      "source": [
        "import os\n",
        "import tensorflow as tf\n",
        "import numpy as np\n",
        "import matplotlib.pyplot as plt"
      ],
      "execution_count": null,
      "outputs": []
    },
    {
      "cell_type": "markdown",
      "metadata": {
        "id": "v77rlkCKW0IJ"
      },
      "source": [
        "## Data preprocessing"
      ]
    },
    {
      "cell_type": "markdown",
      "metadata": {
        "id": "0GoKGm1duzgk"
      },
      "source": [
        "### Data download"
      ]
    },
    {
      "cell_type": "markdown",
      "metadata": {
        "id": "vHP9qMJxt2oz"
      },
      "source": [
        "We'll download our dataset from Roboflow. To download the dataset, use the \"**Folder Structure**\" export format.\n",
        "\n",
        "To get your data into Roboflow, follow the [Getting Started Guide](https://blog.roboflow.ai/getting-started-with-roboflow/).\n",
        "\n",
        "![folder.PNG](data:image/png;base64,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)\n"
      ]
    },
    {
      "cell_type": "code",
      "metadata": {
        "id": "KVh7rDVAuW8Y"
      },
      "source": [
        "!curl -L \"https://public.roboflow.com/ds/[YOUR-KEY-HERE]\" > roboflow.zip; unzip roboflow.zip; rm roboflow.zip\n",
        "%cd /content/\n",
        "%mkdir images/\n",
        "%mv train images/train\n",
        "%mv test images/test\n",
        "%mv valid images/valid"
      ],
      "execution_count": null,
      "outputs": []
    },
    {
      "cell_type": "markdown",
      "metadata": {
        "id": "Nsoic6bGuwQ-"
      },
      "source": [
        "We need to turn this dataset into a Tensorflow Dataset format. Fortunately, Tensorflow provides the ImageFolder dataset structure which is compatible with the format we downloaded the data in. \n",
        "\n",
        "We will then use the builder to build the raw versions of our train, test, and validation data."
      ]
    },
    {
      "cell_type": "code",
      "metadata": {
        "id": "ro4oYaEmxe4r"
      },
      "source": [
        "import tensorflow_datasets as tfds\n",
        "builder = tfds.folder_dataset.ImageFolder('images/')\n",
        "print(builder.info)\n",
        "raw_train = builder.as_dataset(split='train', shuffle_files=True)\n",
        "raw_test = builder.as_dataset(split='test', shuffle_files=True)\n",
        "raw_valid = builder.as_dataset(split='valid', shuffle_files=True)"
      ],
      "execution_count": null,
      "outputs": []
    },
    {
      "cell_type": "markdown",
      "metadata": {
        "id": "yO1Q2JaW5sIy"
      },
      "source": [
        "Show images and labels from the training set:"
      ]
    },
    {
      "cell_type": "code",
      "metadata": {
        "id": "K5BeQyKThC_Y"
      },
      "source": [
        "tfds.show_examples(raw_train, builder.info)"
      ],
      "execution_count": null,
      "outputs": []
    },
    {
      "cell_type": "markdown",
      "metadata": {
        "id": "wvidPx6jeFzf"
      },
      "source": [
        "### Format the Data\n",
        "\n",
        "We can use the `tf.image` module to format the images for the task.\n",
        "\n",
        "Resize the images to a fixed input size, and rescale the input channels to a range of `[-1,1]`\n",
        "\n",
        "<!-- TODO(markdaoust): fix the keras_applications preprocessing functions to work in tf2 -->"
      ]
    },
    {
      "cell_type": "code",
      "metadata": {
        "id": "y3PM6GVHcC31"
      },
      "source": [
        "IMG_SIZE = 160 # All images will be resized to 160x160\n",
        "\n",
        "def format_example(pair):\n",
        "  image, label = pair['image'], pair['label']\n",
        "  image = tf.cast(image, tf.float32)\n",
        "  image = (image/127.5) - 1\n",
        "  image = tf.image.resize(image, (IMG_SIZE, IMG_SIZE))\n",
        "  return image, label"
      ],
      "execution_count": null,
      "outputs": []
    },
    {
      "cell_type": "markdown",
      "metadata": {
        "id": "i2MRh_AeBtOM"
      },
      "source": [
        "Apply this function to each item in the dataset using the map method:"
      ]
    },
    {
      "cell_type": "code",
      "metadata": {
        "id": "SFZ6ZW7KSXP9"
      },
      "source": [
        "train = raw_train.map(format_example)\n",
        "validation = raw_valid.map(format_example)\n",
        "test = raw_test.map(format_example)"
      ],
      "execution_count": null,
      "outputs": []
    },
    {
      "cell_type": "markdown",
      "metadata": {
        "id": "E5ifgXDuBfOC"
      },
      "source": [
        "Now shuffle and batch the data."
      ]
    },
    {
      "cell_type": "code",
      "metadata": {
        "id": "Yic-I66m6Isv"
      },
      "source": [
        "BATCH_SIZE = 32\n",
        "SHUFFLE_BUFFER_SIZE = 1000"
      ],
      "execution_count": null,
      "outputs": []
    },
    {
      "cell_type": "code",
      "metadata": {
        "id": "p3UUPdm86LNC"
      },
      "source": [
        "train_batches = train.shuffle(SHUFFLE_BUFFER_SIZE).batch(BATCH_SIZE)\n",
        "validation_batches = validation.batch(BATCH_SIZE)\n",
        "test_batches = test.batch(BATCH_SIZE)"
      ],
      "execution_count": null,
      "outputs": []
    },
    {
      "cell_type": "markdown",
      "metadata": {
        "id": "02rJpcFtChP0"
      },
      "source": [
        "Inspect a batch of data:"
      ]
    },
    {
      "cell_type": "code",
      "metadata": {
        "id": "iknFo3ELBVho"
      },
      "source": [
        "for image_batch, label_batch in train_batches.take(1):\n",
        "   pass\n",
        "\n",
        "image_batch.shape"
      ],
      "execution_count": null,
      "outputs": []
    },
    {
      "cell_type": "markdown",
      "metadata": {
        "id": "OkH-kazQecHB"
      },
      "source": [
        "## Create the base model from the pre-trained convnets\n",
        "You will create the base model from the **MobileNet V2** model developed at Google. This is pre-trained on the ImageNet dataset, a large dataset consisting of 1.4M images and 1000 classes. ImageNet is a research training dataset with a wide variety of categories like `jackfruit` and `syringe`. This base of knowledge will help us classify cats and dogs from our specific dataset.\n",
        "\n",
        "First, you need to pick which layer of MobileNet V2 you will use for feature extraction. The very last classification layer (on \"top\", as most diagrams of machine learning models go from bottom to top) is not very useful.  Instead, you will follow the common practice to depend on the very last layer before the flatten operation. This layer is called the \"bottleneck layer\". The bottleneck layer features retain more generality as compared to the final/top layer.\n",
        "\n",
        "First, instantiate a MobileNet V2 model pre-loaded with weights trained on ImageNet. By specifying the **include_top=False** argument, you load a network that doesn't include the classification layers at the top, which is ideal for feature extraction."
      ]
    },
    {
      "cell_type": "code",
      "metadata": {
        "id": "19IQ2gqneqmS"
      },
      "source": [
        "IMG_SHAPE = (IMG_SIZE, IMG_SIZE, 3)\n",
        "\n",
        "# Create the base model from the pre-trained model MobileNet V2\n",
        "base_model = tf.keras.applications.MobileNetV2(input_shape=IMG_SHAPE,\n",
        "                                               include_top=False,\n",
        "                                               weights='imagenet')"
      ],
      "execution_count": null,
      "outputs": []
    },
    {
      "cell_type": "markdown",
      "metadata": {
        "id": "AqcsxoJIEVXZ"
      },
      "source": [
        "This feature extractor converts each `160x160x3` image into a `5x5x1280` block of features. See what it does to the example batch of images:"
      ]
    },
    {
      "cell_type": "code",
      "metadata": {
        "id": "Y-2LJL0EEUcx"
      },
      "source": [
        "feature_batch = base_model(image_batch)\n",
        "print(feature_batch.shape)"
      ],
      "execution_count": null,
      "outputs": []
    },
    {
      "cell_type": "markdown",
      "metadata": {
        "id": "rlx56nQtfe8Y"
      },
      "source": [
        "## Feature extraction\n",
        "In this step, you will freeze the convolutional base created from the previous step and to use as a feature extractor. Additionally, you add a classifier on top of it and train the top-level classifier."
      ]
    },
    {
      "cell_type": "markdown",
      "metadata": {
        "id": "CnMLieHBCwil"
      },
      "source": [
        "### Freeze the convolutional base\n",
        "\n",
        "It is important to freeze the convolutional base before you compile and train the model. Freezing (by setting layer.trainable = False) prevents the weights in a given layer from being updated during training. MobileNet V2 has many layers, so setting the entire model's trainable flag to False will freeze all the layers."
      ]
    },
    {
      "cell_type": "code",
      "metadata": {
        "id": "OTCJH4bphOeo"
      },
      "source": [
        "base_model.trainable = False"
      ],
      "execution_count": null,
      "outputs": []
    },
    {
      "cell_type": "code",
      "metadata": {
        "id": "KpbzSmPkDa-N",
        "colab": {
          "base_uri": "https://localhost:8080/"
        },
        "outputId": "1ab66289-0129-44c3-e0a2-87c9ea4740c9"
      },
      "source": [
        "# Let's take a look at the base model architecture\n",
        "base_model.summary()"
      ],
      "execution_count": null,
      "outputs": [
        {
          "output_type": "stream",
          "text": [
            "Model: \"mobilenetv2_1.00_160\"\n",
            "__________________________________________________________________________________________________\n",
            "Layer (type)                    Output Shape         Param #     Connected to                     \n",
            "==================================================================================================\n",
            "input_1 (InputLayer)            [(None, 160, 160, 3) 0                                            \n",
            "__________________________________________________________________________________________________\n",
            "Conv1 (Conv2D)                  (None, 80, 80, 32)   864         input_1[0][0]                    \n",
            "__________________________________________________________________________________________________\n",
            "bn_Conv1 (BatchNormalization)   (None, 80, 80, 32)   128         Conv1[0][0]                      \n",
            "__________________________________________________________________________________________________\n",
            "Conv1_relu (ReLU)               (None, 80, 80, 32)   0           bn_Conv1[0][0]                   \n",
            "__________________________________________________________________________________________________\n",
            "expanded_conv_depthwise (Depthw (None, 80, 80, 32)   288         Conv1_relu[0][0]                 \n",
            "__________________________________________________________________________________________________\n",
            "expanded_conv_depthwise_BN (Bat (None, 80, 80, 32)   128         expanded_conv_depthwise[0][0]    \n",
            "__________________________________________________________________________________________________\n",
            "expanded_conv_depthwise_relu (R (None, 80, 80, 32)   0           expanded_conv_depthwise_BN[0][0] \n",
            "__________________________________________________________________________________________________\n",
            "expanded_conv_project (Conv2D)  (None, 80, 80, 16)   512         expanded_conv_depthwise_relu[0][0\n",
            "__________________________________________________________________________________________________\n",
            "expanded_conv_project_BN (Batch (None, 80, 80, 16)   64          expanded_conv_project[0][0]      \n",
            "__________________________________________________________________________________________________\n",
            "block_1_expand (Conv2D)         (None, 80, 80, 96)   1536        expanded_conv_project_BN[0][0]   \n",
            "__________________________________________________________________________________________________\n",
            "block_1_expand_BN (BatchNormali (None, 80, 80, 96)   384         block_1_expand[0][0]             \n",
            "__________________________________________________________________________________________________\n",
            "block_1_expand_relu (ReLU)      (None, 80, 80, 96)   0           block_1_expand_BN[0][0]          \n",
            "__________________________________________________________________________________________________\n",
            "block_1_pad (ZeroPadding2D)     (None, 81, 81, 96)   0           block_1_expand_relu[0][0]        \n",
            "__________________________________________________________________________________________________\n",
            "block_1_depthwise (DepthwiseCon (None, 40, 40, 96)   864         block_1_pad[0][0]                \n",
            "__________________________________________________________________________________________________\n",
            "block_1_depthwise_BN (BatchNorm (None, 40, 40, 96)   384         block_1_depthwise[0][0]          \n",
            "__________________________________________________________________________________________________\n",
            "block_1_depthwise_relu (ReLU)   (None, 40, 40, 96)   0           block_1_depthwise_BN[0][0]       \n",
            "__________________________________________________________________________________________________\n",
            "block_1_project (Conv2D)        (None, 40, 40, 24)   2304        block_1_depthwise_relu[0][0]     \n",
            "__________________________________________________________________________________________________\n",
            "block_1_project_BN (BatchNormal (None, 40, 40, 24)   96          block_1_project[0][0]            \n",
            "__________________________________________________________________________________________________\n",
            "block_2_expand (Conv2D)         (None, 40, 40, 144)  3456        block_1_project_BN[0][0]         \n",
            "__________________________________________________________________________________________________\n",
            "block_2_expand_BN (BatchNormali (None, 40, 40, 144)  576         block_2_expand[0][0]             \n",
            "__________________________________________________________________________________________________\n",
            "block_2_expand_relu (ReLU)      (None, 40, 40, 144)  0           block_2_expand_BN[0][0]          \n",
            "__________________________________________________________________________________________________\n",
            "block_2_depthwise (DepthwiseCon (None, 40, 40, 144)  1296        block_2_expand_relu[0][0]        \n",
            "__________________________________________________________________________________________________\n",
            "block_2_depthwise_BN (BatchNorm (None, 40, 40, 144)  576         block_2_depthwise[0][0]          \n",
            "__________________________________________________________________________________________________\n",
            "block_2_depthwise_relu (ReLU)   (None, 40, 40, 144)  0           block_2_depthwise_BN[0][0]       \n",
            "__________________________________________________________________________________________________\n",
            "block_2_project (Conv2D)        (None, 40, 40, 24)   3456        block_2_depthwise_relu[0][0]     \n",
            "__________________________________________________________________________________________________\n",
            "block_2_project_BN (BatchNormal (None, 40, 40, 24)   96          block_2_project[0][0]            \n",
            "__________________________________________________________________________________________________\n",
            "block_2_add (Add)               (None, 40, 40, 24)   0           block_1_project_BN[0][0]         \n",
            "                                                                 block_2_project_BN[0][0]         \n",
            "__________________________________________________________________________________________________\n",
            "block_3_expand (Conv2D)         (None, 40, 40, 144)  3456        block_2_add[0][0]                \n",
            "__________________________________________________________________________________________________\n",
            "block_3_expand_BN (BatchNormali (None, 40, 40, 144)  576         block_3_expand[0][0]             \n",
            "__________________________________________________________________________________________________\n",
            "block_3_expand_relu (ReLU)      (None, 40, 40, 144)  0           block_3_expand_BN[0][0]          \n",
            "__________________________________________________________________________________________________\n",
            "block_3_pad (ZeroPadding2D)     (None, 41, 41, 144)  0           block_3_expand_relu[0][0]        \n",
            "__________________________________________________________________________________________________\n",
            "block_3_depthwise (DepthwiseCon (None, 20, 20, 144)  1296        block_3_pad[0][0]                \n",
            "__________________________________________________________________________________________________\n",
            "block_3_depthwise_BN (BatchNorm (None, 20, 20, 144)  576         block_3_depthwise[0][0]          \n",
            "__________________________________________________________________________________________________\n",
            "block_3_depthwise_relu (ReLU)   (None, 20, 20, 144)  0           block_3_depthwise_BN[0][0]       \n",
            "__________________________________________________________________________________________________\n",
            "block_3_project (Conv2D)        (None, 20, 20, 32)   4608        block_3_depthwise_relu[0][0]     \n",
            "__________________________________________________________________________________________________\n",
            "block_3_project_BN (BatchNormal (None, 20, 20, 32)   128         block_3_project[0][0]            \n",
            "__________________________________________________________________________________________________\n",
            "block_4_expand (Conv2D)         (None, 20, 20, 192)  6144        block_3_project_BN[0][0]         \n",
            "__________________________________________________________________________________________________\n",
            "block_4_expand_BN (BatchNormali (None, 20, 20, 192)  768         block_4_expand[0][0]             \n",
            "__________________________________________________________________________________________________\n",
            "block_4_expand_relu (ReLU)      (None, 20, 20, 192)  0           block_4_expand_BN[0][0]          \n",
            "__________________________________________________________________________________________________\n",
            "block_4_depthwise (DepthwiseCon (None, 20, 20, 192)  1728        block_4_expand_relu[0][0]        \n",
            "__________________________________________________________________________________________________\n",
            "block_4_depthwise_BN (BatchNorm (None, 20, 20, 192)  768         block_4_depthwise[0][0]          \n",
            "__________________________________________________________________________________________________\n",
            "block_4_depthwise_relu (ReLU)   (None, 20, 20, 192)  0           block_4_depthwise_BN[0][0]       \n",
            "__________________________________________________________________________________________________\n",
            "block_4_project (Conv2D)        (None, 20, 20, 32)   6144        block_4_depthwise_relu[0][0]     \n",
            "__________________________________________________________________________________________________\n",
            "block_4_project_BN (BatchNormal (None, 20, 20, 32)   128         block_4_project[0][0]            \n",
            "__________________________________________________________________________________________________\n",
            "block_4_add (Add)               (None, 20, 20, 32)   0           block_3_project_BN[0][0]         \n",
            "                                                                 block_4_project_BN[0][0]         \n",
            "__________________________________________________________________________________________________\n",
            "block_5_expand (Conv2D)         (None, 20, 20, 192)  6144        block_4_add[0][0]                \n",
            "__________________________________________________________________________________________________\n",
            "block_5_expand_BN (BatchNormali (None, 20, 20, 192)  768         block_5_expand[0][0]             \n",
            "__________________________________________________________________________________________________\n",
            "block_5_expand_relu (ReLU)      (None, 20, 20, 192)  0           block_5_expand_BN[0][0]          \n",
            "__________________________________________________________________________________________________\n",
            "block_5_depthwise (DepthwiseCon (None, 20, 20, 192)  1728        block_5_expand_relu[0][0]        \n",
            "__________________________________________________________________________________________________\n",
            "block_5_depthwise_BN (BatchNorm (None, 20, 20, 192)  768         block_5_depthwise[0][0]          \n",
            "__________________________________________________________________________________________________\n",
            "block_5_depthwise_relu (ReLU)   (None, 20, 20, 192)  0           block_5_depthwise_BN[0][0]       \n",
            "__________________________________________________________________________________________________\n",
            "block_5_project (Conv2D)        (None, 20, 20, 32)   6144        block_5_depthwise_relu[0][0]     \n",
            "__________________________________________________________________________________________________\n",
            "block_5_project_BN (BatchNormal (None, 20, 20, 32)   128         block_5_project[0][0]            \n",
            "__________________________________________________________________________________________________\n",
            "block_5_add (Add)               (None, 20, 20, 32)   0           block_4_add[0][0]                \n",
            "                                                                 block_5_project_BN[0][0]         \n",
            "__________________________________________________________________________________________________\n",
            "block_6_expand (Conv2D)         (None, 20, 20, 192)  6144        block_5_add[0][0]                \n",
            "__________________________________________________________________________________________________\n",
            "block_6_expand_BN (BatchNormali (None, 20, 20, 192)  768         block_6_expand[0][0]             \n",
            "__________________________________________________________________________________________________\n",
            "block_6_expand_relu (ReLU)      (None, 20, 20, 192)  0           block_6_expand_BN[0][0]          \n",
            "__________________________________________________________________________________________________\n",
            "block_6_pad (ZeroPadding2D)     (None, 21, 21, 192)  0           block_6_expand_relu[0][0]        \n",
            "__________________________________________________________________________________________________\n",
            "block_6_depthwise (DepthwiseCon (None, 10, 10, 192)  1728        block_6_pad[0][0]                \n",
            "__________________________________________________________________________________________________\n",
            "block_6_depthwise_BN (BatchNorm (None, 10, 10, 192)  768         block_6_depthwise[0][0]          \n",
            "__________________________________________________________________________________________________\n",
            "block_6_depthwise_relu (ReLU)   (None, 10, 10, 192)  0           block_6_depthwise_BN[0][0]       \n",
            "__________________________________________________________________________________________________\n",
            "block_6_project (Conv2D)        (None, 10, 10, 64)   12288       block_6_depthwise_relu[0][0]     \n",
            "__________________________________________________________________________________________________\n",
            "block_6_project_BN (BatchNormal (None, 10, 10, 64)   256         block_6_project[0][0]            \n",
            "__________________________________________________________________________________________________\n",
            "block_7_expand (Conv2D)         (None, 10, 10, 384)  24576       block_6_project_BN[0][0]         \n",
            "__________________________________________________________________________________________________\n",
            "block_7_expand_BN (BatchNormali (None, 10, 10, 384)  1536        block_7_expand[0][0]             \n",
            "__________________________________________________________________________________________________\n",
            "block_7_expand_relu (ReLU)      (None, 10, 10, 384)  0           block_7_expand_BN[0][0]          \n",
            "__________________________________________________________________________________________________\n",
            "block_7_depthwise (DepthwiseCon (None, 10, 10, 384)  3456        block_7_expand_relu[0][0]        \n",
            "__________________________________________________________________________________________________\n",
            "block_7_depthwise_BN (BatchNorm (None, 10, 10, 384)  1536        block_7_depthwise[0][0]          \n",
            "__________________________________________________________________________________________________\n",
            "block_7_depthwise_relu (ReLU)   (None, 10, 10, 384)  0           block_7_depthwise_BN[0][0]       \n",
            "__________________________________________________________________________________________________\n",
            "block_7_project (Conv2D)        (None, 10, 10, 64)   24576       block_7_depthwise_relu[0][0]     \n",
            "__________________________________________________________________________________________________\n",
            "block_7_project_BN (BatchNormal (None, 10, 10, 64)   256         block_7_project[0][0]            \n",
            "__________________________________________________________________________________________________\n",
            "block_7_add (Add)               (None, 10, 10, 64)   0           block_6_project_BN[0][0]         \n",
            "                                                                 block_7_project_BN[0][0]         \n",
            "__________________________________________________________________________________________________\n",
            "block_8_expand (Conv2D)         (None, 10, 10, 384)  24576       block_7_add[0][0]                \n",
            "__________________________________________________________________________________________________\n",
            "block_8_expand_BN (BatchNormali (None, 10, 10, 384)  1536        block_8_expand[0][0]             \n",
            "__________________________________________________________________________________________________\n",
            "block_8_expand_relu (ReLU)      (None, 10, 10, 384)  0           block_8_expand_BN[0][0]          \n",
            "__________________________________________________________________________________________________\n",
            "block_8_depthwise (DepthwiseCon (None, 10, 10, 384)  3456        block_8_expand_relu[0][0]        \n",
            "__________________________________________________________________________________________________\n",
            "block_8_depthwise_BN (BatchNorm (None, 10, 10, 384)  1536        block_8_depthwise[0][0]          \n",
            "__________________________________________________________________________________________________\n",
            "block_8_depthwise_relu (ReLU)   (None, 10, 10, 384)  0           block_8_depthwise_BN[0][0]       \n",
            "__________________________________________________________________________________________________\n",
            "block_8_project (Conv2D)        (None, 10, 10, 64)   24576       block_8_depthwise_relu[0][0]     \n",
            "__________________________________________________________________________________________________\n",
            "block_8_project_BN (BatchNormal (None, 10, 10, 64)   256         block_8_project[0][0]            \n",
            "__________________________________________________________________________________________________\n",
            "block_8_add (Add)               (None, 10, 10, 64)   0           block_7_add[0][0]                \n",
            "                                                                 block_8_project_BN[0][0]         \n",
            "__________________________________________________________________________________________________\n",
            "block_9_expand (Conv2D)         (None, 10, 10, 384)  24576       block_8_add[0][0]                \n",
            "__________________________________________________________________________________________________\n",
            "block_9_expand_BN (BatchNormali (None, 10, 10, 384)  1536        block_9_expand[0][0]             \n",
            "__________________________________________________________________________________________________\n",
            "block_9_expand_relu (ReLU)      (None, 10, 10, 384)  0           block_9_expand_BN[0][0]          \n",
            "__________________________________________________________________________________________________\n",
            "block_9_depthwise (DepthwiseCon (None, 10, 10, 384)  3456        block_9_expand_relu[0][0]        \n",
            "__________________________________________________________________________________________________\n",
            "block_9_depthwise_BN (BatchNorm (None, 10, 10, 384)  1536        block_9_depthwise[0][0]          \n",
            "__________________________________________________________________________________________________\n",
            "block_9_depthwise_relu (ReLU)   (None, 10, 10, 384)  0           block_9_depthwise_BN[0][0]       \n",
            "__________________________________________________________________________________________________\n",
            "block_9_project (Conv2D)        (None, 10, 10, 64)   24576       block_9_depthwise_relu[0][0]     \n",
            "__________________________________________________________________________________________________\n",
            "block_9_project_BN (BatchNormal (None, 10, 10, 64)   256         block_9_project[0][0]            \n",
            "__________________________________________________________________________________________________\n",
            "block_9_add (Add)               (None, 10, 10, 64)   0           block_8_add[0][0]                \n",
            "                                                                 block_9_project_BN[0][0]         \n",
            "__________________________________________________________________________________________________\n",
            "block_10_expand (Conv2D)        (None, 10, 10, 384)  24576       block_9_add[0][0]                \n",
            "__________________________________________________________________________________________________\n",
            "block_10_expand_BN (BatchNormal (None, 10, 10, 384)  1536        block_10_expand[0][0]            \n",
            "__________________________________________________________________________________________________\n",
            "block_10_expand_relu (ReLU)     (None, 10, 10, 384)  0           block_10_expand_BN[0][0]         \n",
            "__________________________________________________________________________________________________\n",
            "block_10_depthwise (DepthwiseCo (None, 10, 10, 384)  3456        block_10_expand_relu[0][0]       \n",
            "__________________________________________________________________________________________________\n",
            "block_10_depthwise_BN (BatchNor (None, 10, 10, 384)  1536        block_10_depthwise[0][0]         \n",
            "__________________________________________________________________________________________________\n",
            "block_10_depthwise_relu (ReLU)  (None, 10, 10, 384)  0           block_10_depthwise_BN[0][0]      \n",
            "__________________________________________________________________________________________________\n",
            "block_10_project (Conv2D)       (None, 10, 10, 96)   36864       block_10_depthwise_relu[0][0]    \n",
            "__________________________________________________________________________________________________\n",
            "block_10_project_BN (BatchNorma (None, 10, 10, 96)   384         block_10_project[0][0]           \n",
            "__________________________________________________________________________________________________\n",
            "block_11_expand (Conv2D)        (None, 10, 10, 576)  55296       block_10_project_BN[0][0]        \n",
            "__________________________________________________________________________________________________\n",
            "block_11_expand_BN (BatchNormal (None, 10, 10, 576)  2304        block_11_expand[0][0]            \n",
            "__________________________________________________________________________________________________\n",
            "block_11_expand_relu (ReLU)     (None, 10, 10, 576)  0           block_11_expand_BN[0][0]         \n",
            "__________________________________________________________________________________________________\n",
            "block_11_depthwise (DepthwiseCo (None, 10, 10, 576)  5184        block_11_expand_relu[0][0]       \n",
            "__________________________________________________________________________________________________\n",
            "block_11_depthwise_BN (BatchNor (None, 10, 10, 576)  2304        block_11_depthwise[0][0]         \n",
            "__________________________________________________________________________________________________\n",
            "block_11_depthwise_relu (ReLU)  (None, 10, 10, 576)  0           block_11_depthwise_BN[0][0]      \n",
            "__________________________________________________________________________________________________\n",
            "block_11_project (Conv2D)       (None, 10, 10, 96)   55296       block_11_depthwise_relu[0][0]    \n",
            "__________________________________________________________________________________________________\n",
            "block_11_project_BN (BatchNorma (None, 10, 10, 96)   384         block_11_project[0][0]           \n",
            "__________________________________________________________________________________________________\n",
            "block_11_add (Add)              (None, 10, 10, 96)   0           block_10_project_BN[0][0]        \n",
            "                                                                 block_11_project_BN[0][0]        \n",
            "__________________________________________________________________________________________________\n",
            "block_12_expand (Conv2D)        (None, 10, 10, 576)  55296       block_11_add[0][0]               \n",
            "__________________________________________________________________________________________________\n",
            "block_12_expand_BN (BatchNormal (None, 10, 10, 576)  2304        block_12_expand[0][0]            \n",
            "__________________________________________________________________________________________________\n",
            "block_12_expand_relu (ReLU)     (None, 10, 10, 576)  0           block_12_expand_BN[0][0]         \n",
            "__________________________________________________________________________________________________\n",
            "block_12_depthwise (DepthwiseCo (None, 10, 10, 576)  5184        block_12_expand_relu[0][0]       \n",
            "__________________________________________________________________________________________________\n",
            "block_12_depthwise_BN (BatchNor (None, 10, 10, 576)  2304        block_12_depthwise[0][0]         \n",
            "__________________________________________________________________________________________________\n",
            "block_12_depthwise_relu (ReLU)  (None, 10, 10, 576)  0           block_12_depthwise_BN[0][0]      \n",
            "__________________________________________________________________________________________________\n",
            "block_12_project (Conv2D)       (None, 10, 10, 96)   55296       block_12_depthwise_relu[0][0]    \n",
            "__________________________________________________________________________________________________\n",
            "block_12_project_BN (BatchNorma (None, 10, 10, 96)   384         block_12_project[0][0]           \n",
            "__________________________________________________________________________________________________\n",
            "block_12_add (Add)              (None, 10, 10, 96)   0           block_11_add[0][0]               \n",
            "                                                                 block_12_project_BN[0][0]        \n",
            "__________________________________________________________________________________________________\n",
            "block_13_expand (Conv2D)        (None, 10, 10, 576)  55296       block_12_add[0][0]               \n",
            "__________________________________________________________________________________________________\n",
            "block_13_expand_BN (BatchNormal (None, 10, 10, 576)  2304        block_13_expand[0][0]            \n",
            "__________________________________________________________________________________________________\n",
            "block_13_expand_relu (ReLU)     (None, 10, 10, 576)  0           block_13_expand_BN[0][0]         \n",
            "__________________________________________________________________________________________________\n",
            "block_13_pad (ZeroPadding2D)    (None, 11, 11, 576)  0           block_13_expand_relu[0][0]       \n",
            "__________________________________________________________________________________________________\n",
            "block_13_depthwise (DepthwiseCo (None, 5, 5, 576)    5184        block_13_pad[0][0]               \n",
            "__________________________________________________________________________________________________\n",
            "block_13_depthwise_BN (BatchNor (None, 5, 5, 576)    2304        block_13_depthwise[0][0]         \n",
            "__________________________________________________________________________________________________\n",
            "block_13_depthwise_relu (ReLU)  (None, 5, 5, 576)    0           block_13_depthwise_BN[0][0]      \n",
            "__________________________________________________________________________________________________\n",
            "block_13_project (Conv2D)       (None, 5, 5, 160)    92160       block_13_depthwise_relu[0][0]    \n",
            "__________________________________________________________________________________________________\n",
            "block_13_project_BN (BatchNorma (None, 5, 5, 160)    640         block_13_project[0][0]           \n",
            "__________________________________________________________________________________________________\n",
            "block_14_expand (Conv2D)        (None, 5, 5, 960)    153600      block_13_project_BN[0][0]        \n",
            "__________________________________________________________________________________________________\n",
            "block_14_expand_BN (BatchNormal (None, 5, 5, 960)    3840        block_14_expand[0][0]            \n",
            "__________________________________________________________________________________________________\n",
            "block_14_expand_relu (ReLU)     (None, 5, 5, 960)    0           block_14_expand_BN[0][0]         \n",
            "__________________________________________________________________________________________________\n",
            "block_14_depthwise (DepthwiseCo (None, 5, 5, 960)    8640        block_14_expand_relu[0][0]       \n",
            "__________________________________________________________________________________________________\n",
            "block_14_depthwise_BN (BatchNor (None, 5, 5, 960)    3840        block_14_depthwise[0][0]         \n",
            "__________________________________________________________________________________________________\n",
            "block_14_depthwise_relu (ReLU)  (None, 5, 5, 960)    0           block_14_depthwise_BN[0][0]      \n",
            "__________________________________________________________________________________________________\n",
            "block_14_project (Conv2D)       (None, 5, 5, 160)    153600      block_14_depthwise_relu[0][0]    \n",
            "__________________________________________________________________________________________________\n",
            "block_14_project_BN (BatchNorma (None, 5, 5, 160)    640         block_14_project[0][0]           \n",
            "__________________________________________________________________________________________________\n",
            "block_14_add (Add)              (None, 5, 5, 160)    0           block_13_project_BN[0][0]        \n",
            "                                                                 block_14_project_BN[0][0]        \n",
            "__________________________________________________________________________________________________\n",
            "block_15_expand (Conv2D)        (None, 5, 5, 960)    153600      block_14_add[0][0]               \n",
            "__________________________________________________________________________________________________\n",
            "block_15_expand_BN (BatchNormal (None, 5, 5, 960)    3840        block_15_expand[0][0]            \n",
            "__________________________________________________________________________________________________\n",
            "block_15_expand_relu (ReLU)     (None, 5, 5, 960)    0           block_15_expand_BN[0][0]         \n",
            "__________________________________________________________________________________________________\n",
            "block_15_depthwise (DepthwiseCo (None, 5, 5, 960)    8640        block_15_expand_relu[0][0]       \n",
            "__________________________________________________________________________________________________\n",
            "block_15_depthwise_BN (BatchNor (None, 5, 5, 960)    3840        block_15_depthwise[0][0]         \n",
            "__________________________________________________________________________________________________\n",
            "block_15_depthwise_relu (ReLU)  (None, 5, 5, 960)    0           block_15_depthwise_BN[0][0]      \n",
            "__________________________________________________________________________________________________\n",
            "block_15_project (Conv2D)       (None, 5, 5, 160)    153600      block_15_depthwise_relu[0][0]    \n",
            "__________________________________________________________________________________________________\n",
            "block_15_project_BN (BatchNorma (None, 5, 5, 160)    640         block_15_project[0][0]           \n",
            "__________________________________________________________________________________________________\n",
            "block_15_add (Add)              (None, 5, 5, 160)    0           block_14_add[0][0]               \n",
            "                                                                 block_15_project_BN[0][0]        \n",
            "__________________________________________________________________________________________________\n",
            "block_16_expand (Conv2D)        (None, 5, 5, 960)    153600      block_15_add[0][0]               \n",
            "__________________________________________________________________________________________________\n",
            "block_16_expand_BN (BatchNormal (None, 5, 5, 960)    3840        block_16_expand[0][0]            \n",
            "__________________________________________________________________________________________________\n",
            "block_16_expand_relu (ReLU)     (None, 5, 5, 960)    0           block_16_expand_BN[0][0]         \n",
            "__________________________________________________________________________________________________\n",
            "block_16_depthwise (DepthwiseCo (None, 5, 5, 960)    8640        block_16_expand_relu[0][0]       \n",
            "__________________________________________________________________________________________________\n",
            "block_16_depthwise_BN (BatchNor (None, 5, 5, 960)    3840        block_16_depthwise[0][0]         \n",
            "__________________________________________________________________________________________________\n",
            "block_16_depthwise_relu (ReLU)  (None, 5, 5, 960)    0           block_16_depthwise_BN[0][0]      \n",
            "__________________________________________________________________________________________________\n",
            "block_16_project (Conv2D)       (None, 5, 5, 320)    307200      block_16_depthwise_relu[0][0]    \n",
            "__________________________________________________________________________________________________\n",
            "block_16_project_BN (BatchNorma (None, 5, 5, 320)    1280        block_16_project[0][0]           \n",
            "__________________________________________________________________________________________________\n",
            "Conv_1 (Conv2D)                 (None, 5, 5, 1280)   409600      block_16_project_BN[0][0]        \n",
            "__________________________________________________________________________________________________\n",
            "Conv_1_bn (BatchNormalization)  (None, 5, 5, 1280)   5120        Conv_1[0][0]                     \n",
            "__________________________________________________________________________________________________\n",
            "out_relu (ReLU)                 (None, 5, 5, 1280)   0           Conv_1_bn[0][0]                  \n",
            "==================================================================================================\n",
            "Total params: 2,257,984\n",
            "Trainable params: 0\n",
            "Non-trainable params: 2,257,984\n",
            "__________________________________________________________________________________________________\n"
          ],
          "name": "stdout"
        }
      ]
    },
    {
      "cell_type": "markdown",
      "metadata": {
        "id": "wdMRM8YModbk"
      },
      "source": [
        "### Add a classification head"
      ]
    },
    {
      "cell_type": "markdown",
      "metadata": {
        "id": "QBc31c4tMOdH"
      },
      "source": [
        "To generate predictions from the block of features, average over the spatial `5x5` spatial locations, using a `tf.keras.layers.GlobalAveragePooling2D` layer to convert the features to  a single 1280-element vector per image."
      ]
    },
    {
      "cell_type": "code",
      "metadata": {
        "id": "dLnpMF5KOALm",
        "colab": {
          "base_uri": "https://localhost:8080/"
        },
        "outputId": "2d74651e-ae27-4485-9dec-e18bd4951450"
      },
      "source": [
        "global_average_layer = tf.keras.layers.GlobalAveragePooling2D()\n",
        "feature_batch_average = global_average_layer(feature_batch)\n",
        "print(feature_batch_average.shape)"
      ],
      "execution_count": null,
      "outputs": [
        {
          "output_type": "stream",
          "text": [
            "(32, 1280)\n"
          ],
          "name": "stdout"
        }
      ]
    },
    {
      "cell_type": "markdown",
      "metadata": {
        "id": "O1p0OJBR6dOT"
      },
      "source": [
        "Apply a `tf.keras.layers.Dense` layer to convert these features into a single prediction per image. You don't need an activation function here because this prediction will be treated as a `logit`, or a raw prediction value.  Positive numbers predict class 1, negative numbers predict class 0."
      ]
    },
    {
      "cell_type": "code",
      "metadata": {
        "id": "Wv4afXKj6cVa",
        "colab": {
          "base_uri": "https://localhost:8080/"
        },
        "outputId": "059cbf13-c900-4e51-9780-69d3c188a9bd"
      },
      "source": [
        "prediction_layer = tf.keras.layers.Dense(1)\n",
        "prediction_batch = prediction_layer(feature_batch_average)\n",
        "print(prediction_batch.shape)"
      ],
      "execution_count": null,
      "outputs": [
        {
          "output_type": "stream",
          "text": [
            "(32, 1)\n"
          ],
          "name": "stdout"
        }
      ]
    },
    {
      "cell_type": "markdown",
      "metadata": {
        "id": "0iqnBeZrfoIc"
      },
      "source": [
        "Now stack the feature extractor, and these two layers using a `tf.keras.Sequential` model:"
      ]
    },
    {
      "cell_type": "code",
      "metadata": {
        "id": "eApvroIyn1K0"
      },
      "source": [
        "model = tf.keras.Sequential([\n",
        "  base_model,\n",
        "  global_average_layer,\n",
        "  prediction_layer\n",
        "])"
      ],
      "execution_count": null,
      "outputs": []
    },
    {
      "cell_type": "markdown",
      "metadata": {
        "id": "g0ylJXE_kRLi"
      },
      "source": [
        "### Compile the model\n",
        "\n",
        "You must compile the model before training it.  Since there are two classes, use a binary cross-entropy loss with `from_logits=True` since the model provides a linear output."
      ]
    },
    {
      "cell_type": "code",
      "metadata": {
        "id": "RpR8HdyMhukJ"
      },
      "source": [
        "base_learning_rate = 0.0001\n",
        "model.compile(optimizer=tf.keras.optimizers.RMSprop(learning_rate=base_learning_rate),\n",
        "              loss=tf.keras.losses.BinaryCrossentropy(from_logits=True),\n",
        "              metrics=['accuracy'])"
      ],
      "execution_count": null,
      "outputs": []
    },
    {
      "cell_type": "code",
      "metadata": {
        "id": "I8ARiyMFsgbH",
        "colab": {
          "base_uri": "https://localhost:8080/"
        },
        "outputId": "673400c4-8ac2-47b7-cd46-51636449bc65"
      },
      "source": [
        "model.summary()"
      ],
      "execution_count": null,
      "outputs": [
        {
          "output_type": "stream",
          "text": [
            "Model: \"sequential\"\n",
            "_________________________________________________________________\n",
            "Layer (type)                 Output Shape              Param #   \n",
            "=================================================================\n",
            "mobilenetv2_1.00_160 (Functi (None, 5, 5, 1280)        2257984   \n",
            "_________________________________________________________________\n",
            "global_average_pooling2d (Gl (None, 1280)              0         \n",
            "_________________________________________________________________\n",
            "dense (Dense)                (None, 1)                 1281      \n",
            "=================================================================\n",
            "Total params: 2,259,265\n",
            "Trainable params: 1,281\n",
            "Non-trainable params: 2,257,984\n",
            "_________________________________________________________________\n"
          ],
          "name": "stdout"
        }
      ]
    },
    {
      "cell_type": "markdown",
      "metadata": {
        "id": "lxOcmVr0ydFZ"
      },
      "source": [
        "The 2.5M parameters in MobileNet are frozen, but there are 1.2K _trainable_ parameters in the Dense layer.  These are divided between two `tf.Variable` objects, the weights and biases."
      ]
    },
    {
      "cell_type": "code",
      "metadata": {
        "id": "krvBumovycVA",
        "colab": {
          "base_uri": "https://localhost:8080/"
        },
        "outputId": "c77451bd-9cf5-4109-f206-cadfb014eed3"
      },
      "source": [
        "len(model.trainable_variables)"
      ],
      "execution_count": null,
      "outputs": [
        {
          "output_type": "execute_result",
          "data": {
            "text/plain": [
              "2"
            ]
          },
          "metadata": {
            "tags": []
          },
          "execution_count": 19
        }
      ]
    },
    {
      "cell_type": "markdown",
      "metadata": {
        "id": "RxvgOYTDSWTx"
      },
      "source": [
        "### Train the model\n",
        "\n",
        "After training for 20 epochs, you should see ~90%+ accuracy.\n"
      ]
    },
    {
      "cell_type": "code",
      "metadata": {
        "id": "Om4O3EESkab1",
        "colab": {
          "base_uri": "https://localhost:8080/"
        },
        "outputId": "0fcdffe0-d352-4872-f9d4-1993ec563507"
      },
      "source": [
        "initial_epochs = 20\n",
        "validation_steps=20\n",
        "\n",
        "loss0,accuracy0 = model.evaluate(validation_batches, steps = validation_steps)"
      ],
      "execution_count": null,
      "outputs": [
        {
          "output_type": "stream",
          "text": [
            "12/20 [=================>............] - ETA: 0s - loss: 0.6222 - accuracy: 0.6538WARNING:tensorflow:Your input ran out of data; interrupting training. Make sure that your dataset or generator can generate at least `steps_per_epoch * epochs` batches (in this case, 20 batches). You may need to use the repeat() function when building your dataset.\n"
          ],
          "name": "stdout"
        },
        {
          "output_type": "stream",
          "text": [
            "WARNING:tensorflow:Your input ran out of data; interrupting training. Make sure that your dataset or generator can generate at least `steps_per_epoch * epochs` batches (in this case, 20 batches). You may need to use the repeat() function when building your dataset.\n"
          ],
          "name": "stderr"
        },
        {
          "output_type": "stream",
          "text": [
            "\b\b\b\b\b\b\b\b\b\b\b\b\b\b\b\b\b\b\b\b\b\b\b\b\b\b\b\b\b\b\b\b\b\b\b\b\b\b\b\b\b\b\b\b\b\b\b\b\b\b\b\b\b\b\b\b\b\b\b\b\b\b\b\b\b\b\b\b\b\b\b\b\b\b\b\b\b\b\b\b\b\b\r20/20 [==============================] - 2s 45ms/step - loss: 0.6222 - accuracy: 0.6538\n"
          ],
          "name": "stdout"
        }
      ]
    },
    {
      "cell_type": "code",
      "metadata": {
        "id": "8cYT1c48CuSd",
        "colab": {
          "base_uri": "https://localhost:8080/"
        },
        "outputId": "a26bc998-ef15-4299-843d-bab559bcce27"
      },
      "source": [
        "print(\"initial loss: {:.2f}\".format(loss0))\n",
        "print(\"initial accuracy: {:.2f}\".format(accuracy0))"
      ],
      "execution_count": null,
      "outputs": [
        {
          "output_type": "stream",
          "text": [
            "initial loss: 0.62\n",
            "initial accuracy: 0.65\n"
          ],
          "name": "stdout"
        }
      ]
    },
    {
      "cell_type": "code",
      "metadata": {
        "id": "JsaRFlZ9B6WK",
        "colab": {
          "base_uri": "https://localhost:8080/"
        },
        "outputId": "5bb25743-b08e-4db3-cb6c-0dddec53db6f"
      },
      "source": [
        "history = model.fit(train_batches,\n",
        "                    epochs=initial_epochs,\n",
        "                    validation_data=validation_batches)"
      ],
      "execution_count": null,
      "outputs": [
        {
          "output_type": "stream",
          "text": [
            "Epoch 1/20\n",
            "40/40 [==============================] - 7s 58ms/step - loss: 0.5643 - accuracy: 0.7051 - val_loss: 0.5222 - val_accuracy: 0.7473\n",
            "Epoch 2/20\n",
            "40/40 [==============================] - 4s 55ms/step - loss: 0.4960 - accuracy: 0.7514 - val_loss: 0.4626 - val_accuracy: 0.7995\n",
            "Epoch 3/20\n",
            "40/40 [==============================] - 4s 55ms/step - loss: 0.4446 - accuracy: 0.7835 - val_loss: 0.4157 - val_accuracy: 0.8104\n",
            "Epoch 4/20\n",
            "40/40 [==============================] - 4s 55ms/step - loss: 0.4028 - accuracy: 0.8055 - val_loss: 0.3795 - val_accuracy: 0.8132\n",
            "Epoch 5/20\n",
            "40/40 [==============================] - 4s 54ms/step - loss: 0.3706 - accuracy: 0.8227 - val_loss: 0.3508 - val_accuracy: 0.8269\n",
            "Epoch 6/20\n",
            "40/40 [==============================] - 4s 55ms/step - loss: 0.3432 - accuracy: 0.8345 - val_loss: 0.3261 - val_accuracy: 0.8489\n",
            "Epoch 7/20\n",
            "40/40 [==============================] - 4s 54ms/step - loss: 0.3200 - accuracy: 0.8494 - val_loss: 0.3070 - val_accuracy: 0.8544\n",
            "Epoch 8/20\n",
            "40/40 [==============================] - 4s 55ms/step - loss: 0.2995 - accuracy: 0.8580 - val_loss: 0.2888 - val_accuracy: 0.8626\n",
            "Epoch 9/20\n",
            "40/40 [==============================] - 4s 55ms/step - loss: 0.2819 - accuracy: 0.8737 - val_loss: 0.2742 - val_accuracy: 0.8654\n",
            "Epoch 10/20\n",
            "40/40 [==============================] - 4s 55ms/step - loss: 0.2664 - accuracy: 0.8839 - val_loss: 0.2608 - val_accuracy: 0.8764\n",
            "Epoch 11/20\n",
            "40/40 [==============================] - 4s 55ms/step - loss: 0.2531 - accuracy: 0.8894 - val_loss: 0.2496 - val_accuracy: 0.8819\n",
            "Epoch 12/20\n",
            "40/40 [==============================] - 4s 54ms/step - loss: 0.2411 - accuracy: 0.9012 - val_loss: 0.2424 - val_accuracy: 0.8791\n",
            "Epoch 13/20\n",
            "40/40 [==============================] - 4s 55ms/step - loss: 0.2308 - accuracy: 0.9035 - val_loss: 0.2330 - val_accuracy: 0.8901\n",
            "Epoch 14/20\n",
            "40/40 [==============================] - 4s 55ms/step - loss: 0.2212 - accuracy: 0.9035 - val_loss: 0.2237 - val_accuracy: 0.8929\n",
            "Epoch 15/20\n",
            "40/40 [==============================] - 4s 55ms/step - loss: 0.2129 - accuracy: 0.9153 - val_loss: 0.2190 - val_accuracy: 0.8956\n",
            "Epoch 16/20\n",
            "40/40 [==============================] - 4s 55ms/step - loss: 0.2052 - accuracy: 0.9161 - val_loss: 0.2122 - val_accuracy: 0.8956\n",
            "Epoch 17/20\n",
            "40/40 [==============================] - 4s 55ms/step - loss: 0.1977 - accuracy: 0.9208 - val_loss: 0.2068 - val_accuracy: 0.8956\n",
            "Epoch 18/20\n",
            "40/40 [==============================] - 4s 54ms/step - loss: 0.1911 - accuracy: 0.9208 - val_loss: 0.2006 - val_accuracy: 0.8984\n",
            "Epoch 19/20\n",
            "40/40 [==============================] - 4s 55ms/step - loss: 0.1852 - accuracy: 0.9271 - val_loss: 0.1971 - val_accuracy: 0.9011\n",
            "Epoch 20/20\n",
            "40/40 [==============================] - 4s 54ms/step - loss: 0.1796 - accuracy: 0.9286 - val_loss: 0.1933 - val_accuracy: 0.9066\n"
          ],
          "name": "stdout"
        }
      ]
    },
    {
      "cell_type": "markdown",
      "metadata": {
        "id": "Hd94CKImf8vi"
      },
      "source": [
        "### Learning curves\n",
        "\n",
        "Let's take a look at the learning curves of the training and validation accuracy/loss when using the MobileNet V2 base model as a fixed feature extractor."
      ]
    },
    {
      "cell_type": "code",
      "metadata": {
        "id": "53OTCh3jnbwV",
        "colab": {
          "base_uri": "https://localhost:8080/",
          "height": 513
        },
        "outputId": "34443ab4-7647-4247-8264-cc7f9a1e0ba0"
      },
      "source": [
        "acc = history.history['accuracy']\n",
        "val_acc = history.history['val_accuracy']\n",
        "\n",
        "loss = history.history['loss']\n",
        "val_loss = history.history['val_loss']\n",
        "\n",
        "plt.figure(figsize=(8, 8))\n",
        "plt.subplot(2, 1, 1)\n",
        "plt.plot(acc, label='Training Accuracy')\n",
        "plt.plot(val_acc, label='Validation Accuracy')\n",
        "plt.legend(loc='lower right')\n",
        "plt.ylabel('Accuracy')\n",
        "plt.ylim([min(plt.ylim()),1])\n",
        "plt.title('Training and Validation Accuracy')\n",
        "\n",
        "plt.subplot(2, 1, 2)\n",
        "plt.plot(loss, label='Training Loss')\n",
        "plt.plot(val_loss, label='Validation Loss')\n",
        "plt.legend(loc='upper right')\n",
        "plt.ylabel('Cross Entropy')\n",
        "plt.ylim([0,1.0])\n",
        "plt.title('Training and Validation Loss')\n",
        "plt.xlabel('epoch')\n",
        "plt.show()"
      ],
      "execution_count": null,
      "outputs": [
        {
          "output_type": "display_data",
          "data": {
            "image/png": "[encoded data removed]",
            "text/plain": [
              "<Figure size 576x576 with 2 Axes>"
            ]
          },
          "metadata": {
            "tags": [],
            "needs_background": "light"
          }
        }
      ]
    },
    {
      "cell_type": "markdown",
      "metadata": {
        "id": "CqwV-CRdS6Nv"
      },
      "source": [
        "## Fine tuning\n",
        "In the feature extraction experiment, you were only training a few layers on top of an MobileNet V2 base model. The weights of the pre-trained network were **not** updated during training.\n",
        "\n",
        "One way to increase performance even further is to train (or \"fine-tune\") the weights of the top layers of the pre-trained model alongside the training of the classifier you added. The training process will force the weights to be tuned from generic feature maps to features associated specifically with the dataset.\n",
        "\n",
        "Note: This should only be attempted after you have trained the top-level classifier with the pre-trained model set to non-trainable. If you add a randomly initialized classifier on top of a pre-trained model and attempt to train all layers jointly, the magnitude of the gradient updates will be too large (due to the random weights from the classifier) and your pre-trained model will forget what it has learned.\n",
        "\n",
        "Also, you should try to fine-tune a small number of top layers rather than the whole MobileNet model. In most convolutional networks, the higher up a layer is, the more specialized it is. The first few layers learn very simple and generic features that generalize to almost all types of images. As you go higher up, the features are increasingly more specific to the dataset on which the model was trained. The goal of fine-tuning is to adapt these specialized features to work with the new dataset, rather than overwrite the generic learning."
      ]
    },
    {
      "cell_type": "markdown",
      "metadata": {
        "id": "CPXnzUK0QonF"
      },
      "source": [
        "### Un-freeze the top layers of the model\n"
      ]
    },
    {
      "cell_type": "markdown",
      "metadata": {
        "id": "rfxv_ifotQak"
      },
      "source": [
        "All you need to do is unfreeze the `base_model` and set the bottom layers to be un-trainable. Then, you should recompile the model (necessary for these changes to take effect), and resume training."
      ]
    },
    {
      "cell_type": "code",
      "metadata": {
        "id": "4nzcagVitLQm"
      },
      "source": [
        "base_model.trainable = True"
      ],
      "execution_count": null,
      "outputs": []
    },
    {
      "cell_type": "code",
      "metadata": {
        "id": "-4HgVAacRs5v",
        "colab": {
          "base_uri": "https://localhost:8080/"
        },
        "outputId": "4d05518a-2dba-4ade-a8e5-4a0f220b0884"
      },
      "source": [
        "# Let's take a look to see how many layers are in the base model\n",
        "print(\"Number of layers in the base model: \", len(base_model.layers))\n",
        "\n",
        "# Fine-tune from this layer onwards\n",
        "fine_tune_at = 100\n",
        "\n",
        "# Freeze all the layers before the `fine_tune_at` layer\n",
        "for layer in base_model.layers[:fine_tune_at]:\n",
        "  layer.trainable =  False"
      ],
      "execution_count": null,
      "outputs": [
        {
          "output_type": "stream",
          "text": [
            "Number of layers in the base model:  154\n"
          ],
          "name": "stdout"
        }
      ]
    },
    {
      "cell_type": "markdown",
      "metadata": {
        "id": "4Uk1dgsxT0IS"
      },
      "source": [
        "### Compile the model\n",
        "\n",
        "Compile the model using a much lower learning rate."
      ]
    },
    {
      "cell_type": "code",
      "metadata": {
        "id": "NtUnaz0WUDva"
      },
      "source": [
        "model.compile(loss=tf.keras.losses.BinaryCrossentropy(from_logits=True),\n",
        "              optimizer = tf.keras.optimizers.RMSprop(learning_rate=base_learning_rate/10),\n",
        "              metrics=['accuracy'])"
      ],
      "execution_count": null,
      "outputs": []
    },
    {
      "cell_type": "code",
      "metadata": {
        "id": "WwBWy7J2kZvA",
        "colab": {
          "base_uri": "https://localhost:8080/"
        },
        "outputId": "e2b107dc-bf4d-45a3-e84b-953b579c9cd1"
      },
      "source": [
        "model.summary()"
      ],
      "execution_count": null,
      "outputs": [
        {
          "output_type": "stream",
          "text": [
            "Model: \"sequential\"\n",
            "_________________________________________________________________\n",
            "Layer (type)                 Output Shape              Param #   \n",
            "=================================================================\n",
            "mobilenetv2_1.00_160 (Functi (None, 5, 5, 1280)        2257984   \n",
            "_________________________________________________________________\n",
            "global_average_pooling2d (Gl (None, 1280)              0         \n",
            "_________________________________________________________________\n",
            "dense (Dense)                (None, 1)                 1281      \n",
            "=================================================================\n",
            "Total params: 2,259,265\n",
            "Trainable params: 1,862,721\n",
            "Non-trainable params: 396,544\n",
            "_________________________________________________________________\n"
          ],
          "name": "stdout"
        }
      ]
    },
    {
      "cell_type": "code",
      "metadata": {
        "id": "bNXelbMQtonr",
        "colab": {
          "base_uri": "https://localhost:8080/"
        },
        "outputId": "cd0086e4-9722-46d0-8849-51becf2b34e1"
      },
      "source": [
        "len(model.trainable_variables)"
      ],
      "execution_count": null,
      "outputs": [
        {
          "output_type": "execute_result",
          "data": {
            "text/plain": [
              "56"
            ]
          },
          "metadata": {
            "tags": []
          },
          "execution_count": 28
        }
      ]
    },
    {
      "cell_type": "markdown",
      "metadata": {
        "id": "4G5O4jd6TuAG"
      },
      "source": [
        "### Continue training the model"
      ]
    },
    {
      "cell_type": "markdown",
      "metadata": {
        "id": "0foWUN-yDLo_"
      },
      "source": [
        "If you trained to convergence earlier, this step will improve your accuracy by a few percentage points."
      ]
    },
    {
      "cell_type": "code",
      "metadata": {
        "id": "ECQLkAsFTlun",
        "colab": {
          "base_uri": "https://localhost:8080/"
        },
        "outputId": "e8ca5f3c-d44a-4bfb-8050-0a4dd911289c"
      },
      "source": [
        "fine_tune_epochs = 10\n",
        "total_epochs =  initial_epochs + fine_tune_epochs\n",
        "\n",
        "history_fine = model.fit(train_batches,\n",
        "                         epochs=total_epochs,\n",
        "                         initial_epoch =  history.epoch[-1],\n",
        "                         validation_data=validation_batches)"
      ],
      "execution_count": null,
      "outputs": [
        {
          "output_type": "stream",
          "text": [
            "Epoch 20/30\n",
            "40/40 [==============================] - 10s 79ms/step - loss: 0.2615 - accuracy: 0.8973 - val_loss: 0.1640 - val_accuracy: 0.9066\n",
            "Epoch 21/30\n",
            "40/40 [==============================] - 5s 62ms/step - loss: 0.1836 - accuracy: 0.9318 - val_loss: 0.1531 - val_accuracy: 0.9066\n",
            "Epoch 22/30\n",
            "40/40 [==============================] - 5s 63ms/step - loss: 0.1456 - accuracy: 0.9529 - val_loss: 0.1422 - val_accuracy: 0.9231\n",
            "Epoch 23/30\n",
            "40/40 [==============================] - 5s 62ms/step - loss: 0.1185 - accuracy: 0.9663 - val_loss: 0.1350 - val_accuracy: 0.9341\n",
            "Epoch 24/30\n",
            "40/40 [==============================] - 5s 63ms/step - loss: 0.0964 - accuracy: 0.9725 - val_loss: 0.1315 - val_accuracy: 0.9451\n",
            "Epoch 25/30\n",
            "40/40 [==============================] - 5s 63ms/step - loss: 0.0813 - accuracy: 0.9788 - val_loss: 0.1295 - val_accuracy: 0.9396\n",
            "Epoch 26/30\n",
            "40/40 [==============================] - 5s 63ms/step - loss: 0.0622 - accuracy: 0.9875 - val_loss: 0.1262 - val_accuracy: 0.9451\n",
            "Epoch 27/30\n",
            "40/40 [==============================] - 5s 63ms/step - loss: 0.0555 - accuracy: 0.9898 - val_loss: 0.1241 - val_accuracy: 0.9451\n",
            "Epoch 28/30\n",
            "40/40 [==============================] - 5s 64ms/step - loss: 0.0419 - accuracy: 0.9937 - val_loss: 0.1226 - val_accuracy: 0.9451\n",
            "Epoch 29/30\n",
            "40/40 [==============================] - 5s 63ms/step - loss: 0.0427 - accuracy: 0.9922 - val_loss: 0.1198 - val_accuracy: 0.9451\n",
            "Epoch 30/30\n",
            "40/40 [==============================] - 5s 63ms/step - loss: 0.0290 - accuracy: 0.9984 - val_loss: 0.1173 - val_accuracy: 0.9451\n"
          ],
          "name": "stdout"
        }
      ]
    },
    {
      "cell_type": "markdown",
      "metadata": {
        "id": "TfXEmsxQf6eP"
      },
      "source": [
        "Let's take a look at the learning curves of the training and validation accuracy/loss when fine-tuning the last few layers of the MobileNet V2 base model and training the classifier on top of it. The validation loss is much higher than the training loss, so you may get some overfitting.\n",
        "\n",
        "You may also get some overfitting as the new training set is relatively small and similar to the original MobileNet V2 datasets.\n"
      ]
    },
    {
      "cell_type": "markdown",
      "metadata": {
        "id": "DNtfNZKlInGT"
      },
      "source": [
        "After fine tuning the model nearly reaches 98% accuracy."
      ]
    },
    {
      "cell_type": "code",
      "metadata": {
        "id": "PpA8PlpQKygw"
      },
      "source": [
        "acc += history_fine.history['accuracy']\n",
        "val_acc += history_fine.history['val_accuracy']\n",
        "\n",
        "loss += history_fine.history['loss']\n",
        "val_loss += history_fine.history['val_loss']"
      ],
      "execution_count": null,
      "outputs": []
    },
    {
      "cell_type": "code",
      "metadata": {
        "id": "chW103JUItdk",
        "colab": {
          "base_uri": "https://localhost:8080/",
          "height": 513
        },
        "outputId": "7d51fffe-9fae-4520-913e-b7ae1ffd0c3b"
      },
      "source": [
        "plt.figure(figsize=(8, 8))\n",
        "plt.subplot(2, 1, 1)\n",
        "plt.plot(acc, label='Training Accuracy')\n",
        "plt.plot(val_acc, label='Validation Accuracy')\n",
        "plt.ylim([0.8, 1])\n",
        "plt.plot([initial_epochs-1,initial_epochs-1],\n",
        "          plt.ylim(), label='Start Fine Tuning')\n",
        "plt.legend(loc='lower right')\n",
        "plt.title('Training and Validation Accuracy')\n",
        "\n",
        "plt.subplot(2, 1, 2)\n",
        "plt.plot(loss, label='Training Loss')\n",
        "plt.plot(val_loss, label='Validation Loss')\n",
        "plt.ylim([0, 1.0])\n",
        "plt.plot([initial_epochs-1,initial_epochs-1],\n",
        "         plt.ylim(), label='Start Fine Tuning')\n",
        "plt.legend(loc='upper right')\n",
        "plt.title('Training and Validation Loss')\n",
        "plt.xlabel('epoch')\n",
        "plt.show()"
      ],
      "execution_count": null,
      "outputs": [
        {
          "output_type": "display_data",
          "data": {
            "image/png": "[encoded data removed]",
            "text/plain": [
              "<Figure size 576x576 with 2 Axes>"
            ]
          },
          "metadata": {
            "tags": [],
            "needs_background": "light"
          }
        }
      ]
    },
    {
      "cell_type": "markdown",
      "metadata": {
        "id": "bZ85_vVYYYUh"
      },
      "source": [
        "# Infer on a Sample Image"
      ]
    },
    {
      "cell_type": "code",
      "metadata": {
        "colab": {
          "base_uri": "https://localhost:8080/",
          "height": 317
        },
        "id": "8KqBvdtYYZU8",
        "outputId": "d250e9e2-2ef7-40c0-bd77-d29e56b472a6"
      },
      "source": [
        "test_batches = test.batch(1)\n",
        "for image, label in test_batches.take(1):\n",
        "  pass\n",
        "plt.imshow(np.squeeze(image))\n",
        "plt.title(\"Dandelion\" if model.predict(image) > 0 else \"Daisy\")"
      ],
      "execution_count": null,
      "outputs": [
        {
          "output_type": "stream",
          "text": [
            "WARNING:matplotlib.image:Clipping input data to the valid range for imshow with RGB data ([0..1] for floats or [0..255] for integers).\n"
          ],
          "name": "stderr"
        },
        {
          "output_type": "execute_result",
          "data": {
            "text/plain": [
              "Text(0.5, 1.0, 'Daisy')"
            ]
          },
          "metadata": {
            "tags": []
          },
          "execution_count": 34
        },
        {
          "output_type": "display_data",
          "data": {
            "image/png": "[encoded data removed]",
            "text/plain": [
              "<Figure size 432x288 with 1 Axes>"
            ]
          },
          "metadata": {
            "tags": [],
            "needs_background": "light"
          }
        }
      ]
    },
    {
      "cell_type": "markdown",
      "metadata": {
        "id": "_TZTwG7nhm0C"
      },
      "source": [
        "## Summary:\n",
        "\n",
        "* **Using a pre-trained model for feature extraction**:  When working with a small dataset, it is a common practice to take advantage of features learned by a model trained on a larger dataset in the same domain. This is done by instantiating the pre-trained model and adding a fully-connected classifier on top. The pre-trained model is \"frozen\" and only the weights of the classifier get updated during training.\n",
        "In this case, the convolutional base extracted all the features associated with each image and you just trained a classifier that determines the image class given that set of extracted features.\n",
        "\n",
        "* **Fine-tuning a pre-trained model**: To further improve performance, one might want to repurpose the top-level layers of the pre-trained models to the new dataset via fine-tuning.\n",
        "In this case, you tuned your weights such that your model learned high-level features specific to the dataset. This technique is usually recommended when the training dataset is large and very similar to the original dataset that the pre-trained model was trained on.\n"
      ]
    }
  ]
}